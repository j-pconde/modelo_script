{
 "cells": [
  {
   "cell_type": "code",
   "execution_count": 157,
   "metadata": {},
   "outputs": [],
   "source": [
    "import numpy as np\n",
    "import pandas as pd\n",
    "import matplotlib.pyplot as plt\n",
    "import seaborn as sns\n",
    "\n",
    "from sklearn.preprocessing import StandardScaler\n",
    "from sklearn.cluster import AgglomerativeClustering\n",
    "\n",
    "import scipy.cluster.hierarchy as shc\n",
    "from scipy.spatial.distance import pdist, squareform"
   ]
  },
  {
   "cell_type": "code",
   "execution_count": 103,
   "metadata": {},
   "outputs": [
    {
     "data": {
      "text/html": [
       "<div>\n",
       "<style scoped>\n",
       "    .dataframe tbody tr th:only-of-type {\n",
       "        vertical-align: middle;\n",
       "    }\n",
       "\n",
       "    .dataframe tbody tr th {\n",
       "        vertical-align: top;\n",
       "    }\n",
       "\n",
       "    .dataframe thead th {\n",
       "        text-align: right;\n",
       "    }\n",
       "</style>\n",
       "<table border=\"1\" class=\"dataframe\">\n",
       "  <thead>\n",
       "    <tr style=\"text-align: right;\">\n",
       "      <th></th>\n",
       "      <th>Região</th>\n",
       "      <th>HD</th>\n",
       "      <th>F</th>\n",
       "    </tr>\n",
       "  </thead>\n",
       "  <tbody>\n",
       "    <tr>\n",
       "      <th>0</th>\n",
       "      <td>SJRP</td>\n",
       "      <td>10.85</td>\n",
       "      <td>1500.80</td>\n",
       "    </tr>\n",
       "    <tr>\n",
       "      <th>1</th>\n",
       "      <td>RP</td>\n",
       "      <td>14.13</td>\n",
       "      <td>1496.07</td>\n",
       "    </tr>\n",
       "    <tr>\n",
       "      <th>2</th>\n",
       "      <td>Bauru</td>\n",
       "      <td>8.62</td>\n",
       "      <td>1448.79</td>\n",
       "    </tr>\n",
       "    <tr>\n",
       "      <th>3</th>\n",
       "      <td>Campinas</td>\n",
       "      <td>23.04</td>\n",
       "      <td>1277.33</td>\n",
       "    </tr>\n",
       "    <tr>\n",
       "      <th>4</th>\n",
       "      <td>Sorocaba</td>\n",
       "      <td>16.04</td>\n",
       "      <td>1204.02</td>\n",
       "    </tr>\n",
       "  </tbody>\n",
       "</table>\n",
       "</div>"
      ],
      "text/plain": [
       "     Região     HD        F\n",
       "0      SJRP  10.85  1500.80\n",
       "1        RP  14.13  1496.07\n",
       "2     Bauru   8.62  1448.79\n",
       "3  Campinas  23.04  1277.33\n",
       "4  Sorocaba  16.04  1204.02"
      ]
     },
     "execution_count": 103,
     "metadata": {},
     "output_type": "execute_result"
    }
   ],
   "source": [
    "df_base = pd.read_csv(r'C:\\Users\\jonathan.perez\\Documents\\2. ESTUDOS\\3. DADOS\\livro - metodos multivariados de analise estatistica\\Outros Dados\\Capítulo 08\\Crimes_Grp.csv', sep=';', decimal=',')\\\n",
    "    .iloc[:5,:-3]\n",
    "\n",
    "df_base"
   ]
  },
  {
   "cell_type": "code",
   "execution_count": 104,
   "metadata": {},
   "outputs": [
    {
     "data": {
      "text/html": [
       "<div>\n",
       "<style scoped>\n",
       "    .dataframe tbody tr th:only-of-type {\n",
       "        vertical-align: middle;\n",
       "    }\n",
       "\n",
       "    .dataframe tbody tr th {\n",
       "        vertical-align: top;\n",
       "    }\n",
       "\n",
       "    .dataframe thead th {\n",
       "        text-align: right;\n",
       "    }\n",
       "</style>\n",
       "<table border=\"1\" class=\"dataframe\">\n",
       "  <thead>\n",
       "    <tr style=\"text-align: right;\">\n",
       "      <th></th>\n",
       "      <th>HD</th>\n",
       "      <th>F</th>\n",
       "    </tr>\n",
       "    <tr>\n",
       "      <th>Região</th>\n",
       "      <th></th>\n",
       "      <th></th>\n",
       "    </tr>\n",
       "  </thead>\n",
       "  <tbody>\n",
       "    <tr>\n",
       "      <th>SJRP</th>\n",
       "      <td>-0.742173</td>\n",
       "      <td>0.947535</td>\n",
       "    </tr>\n",
       "    <tr>\n",
       "      <th>RP</th>\n",
       "      <td>-0.081748</td>\n",
       "      <td>0.908697</td>\n",
       "    </tr>\n",
       "    <tr>\n",
       "      <th>Bauru</th>\n",
       "      <td>-1.191181</td>\n",
       "      <td>0.520480</td>\n",
       "    </tr>\n",
       "    <tr>\n",
       "      <th>Campinas</th>\n",
       "      <td>1.712273</td>\n",
       "      <td>-0.887381</td>\n",
       "    </tr>\n",
       "    <tr>\n",
       "      <th>Sorocaba</th>\n",
       "      <td>0.302829</td>\n",
       "      <td>-1.489330</td>\n",
       "    </tr>\n",
       "  </tbody>\n",
       "</table>\n",
       "</div>"
      ],
      "text/plain": [
       "                HD         F\n",
       "Região                      \n",
       "SJRP     -0.742173  0.947535\n",
       "RP       -0.081748  0.908697\n",
       "Bauru    -1.191181  0.520480\n",
       "Campinas  1.712273 -0.887381\n",
       "Sorocaba  0.302829 -1.489330"
      ]
     },
     "execution_count": 104,
     "metadata": {},
     "output_type": "execute_result"
    }
   ],
   "source": [
    "df_base_zscore = pd.DataFrame(StandardScaler().fit_transform(df_base.iloc[:, 1:]), columns=df_base.columns[1:], index=df_base.iloc[:, 0])\n",
    "df_base_zscore"
   ]
  },
  {
   "cell_type": "code",
   "execution_count": 30,
   "metadata": {},
   "outputs": [
    {
     "name": "stderr",
     "output_type": "stream",
     "text": [
      "C:\\Users\\jonathan.perez\\AppData\\Local\\Temp\\ipykernel_780\\600193010.py:5: FutureWarning: Series.__getitem__ treating keys as positions is deprecated. In a future version, integer keys will always be treated as labels (consistent with DataFrame behavior). To access a value by position, use `ser.iloc[pos]`\n",
      "  (df_base_zscore[\"HD\"][i], df_base_zscore[\"F\"][i]),  # Coordenadas do ponto\n"
     ]
    },
    {
     "data": {
      "image/png": "[encoded data removed]",
      "text/plain": [
       "<Figure size 640x480 with 1 Axes>"
      ]
     },
     "metadata": {},
     "output_type": "display_data"
    }
   ],
   "source": [
    "sns.scatterplot(df_base_zscore, x='HD', y='F')\n",
    "for i in range(len(df_base_zscore)):\n",
    "    plt.annotate(\n",
    "        f'{df_base_zscore.index[i]}',  # Texto a ser exibido (no caso, o nome do dia)\n",
    "        (df_base_zscore[\"HD\"][i], df_base_zscore[\"F\"][i]),  # Coordenadas do ponto\n",
    "        \n",
    "        textcoords=\"offset points\",  # Coordenadas do texto\n",
    "        xytext=(0, 5),  # Deslocamento do texto em relação ao ponto\n",
    "        ha='center'  # Alinhamento horizontal\n",
    "    )"
   ]
  },
  {
   "cell_type": "markdown",
   "metadata": {},
   "source": [
    "# Distancias\n",
    "\n",
    "Existem medidas de:\n",
    "\n",
    "    Similaridade (Quanto maior o valor, maior a semelhanca entre os objetos) \n",
    "    Discimilaridade (Quanto maior o valor, mais diferentes sao os objetos)"
   ]
  },
  {
   "cell_type": "markdown",
   "metadata": {},
   "source": [
    "## Numerica"
   ]
  },
  {
   "cell_type": "code",
   "execution_count": null,
   "metadata": {},
   "outputs": [],
   "source": [
    "# distancias suportadas pela fun~cao pdist\n",
    "# https://docs.scipy.org/doc/scipy/reference/generated/scipy.spatial.distance.pdist.html#scipy.spatial.distance.pdist"
   ]
  },
  {
   "cell_type": "code",
   "execution_count": 58,
   "metadata": {},
   "outputs": [
    {
     "data": {
      "text/plain": [
       "array([[0.  , 0.26, 0.41, 1.84, 2.13, 1.85, 3.37, 2.58],\n",
       "       [0.26, 0.  , 0.54, 1.69, 2.06, 1.68, 3.15, 2.34],\n",
       "       [0.41, 0.54, 0.  , 1.65, 1.82, 1.71, 3.29, 2.85],\n",
       "       [1.84, 1.69, 1.65, 0.  , 0.75, 0.21, 1.73, 2.69],\n",
       "       [2.13, 2.06, 1.82, 0.75, 0.  , 0.96, 2.17, 3.43],\n",
       "       [1.85, 1.68, 1.71, 0.21, 0.96, 0.  , 1.6 , 2.5 ],\n",
       "       [3.37, 3.15, 3.29, 1.73, 2.17, 1.6 , 0.  , 2.81],\n",
       "       [2.58, 2.34, 2.85, 2.69, 3.43, 2.5 , 2.81, 0.  ]])"
      ]
     },
     "execution_count": 58,
     "metadata": {},
     "output_type": "execute_result"
    }
   ],
   "source": [
    "#from sklearn.metrics import pairwise_distances\n",
    "#similarity_matrix = np.square(pairwise_distances(df_dummies.to_numpy(), metric=\"euclidean\"))\n",
    "\n",
    "distancias_condensada = pdist(StandardScaler().fit_transform(df_base.iloc[:, 1:]), metric='euclidean') #retorna a matriz diagonal inferior (tirando a diagonal)\n",
    "\n",
    "mt_distancias = squareform(distancias_condensada)\n",
    "mt_distancias.round(2)"
   ]
  },
  {
   "cell_type": "markdown",
   "metadata": {},
   "source": [
    "## Categorica"
   ]
  },
  {
   "cell_type": "code",
   "execution_count": 3,
   "metadata": {},
   "outputs": [
    {
     "data": {
      "text/html": [
       "<div>\n",
       "<style scoped>\n",
       "    .dataframe tbody tr th:only-of-type {\n",
       "        vertical-align: middle;\n",
       "    }\n",
       "\n",
       "    .dataframe tbody tr th {\n",
       "        vertical-align: top;\n",
       "    }\n",
       "\n",
       "    .dataframe thead th {\n",
       "        text-align: right;\n",
       "    }\n",
       "</style>\n",
       "<table border=\"1\" class=\"dataframe\">\n",
       "  <thead>\n",
       "    <tr style=\"text-align: right;\">\n",
       "      <th></th>\n",
       "      <th>idade</th>\n",
       "      <th>ncarros</th>\n",
       "      <th>classe</th>\n",
       "      <th>potencia</th>\n",
       "      <th>cambio</th>\n",
       "      <th>modelo</th>\n",
       "    </tr>\n",
       "  </thead>\n",
       "  <tbody>\n",
       "    <tr>\n",
       "      <th>0</th>\n",
       "      <td>20</td>\n",
       "      <td>1</td>\n",
       "      <td>A</td>\n",
       "      <td>baixa</td>\n",
       "      <td>automatico</td>\n",
       "      <td>esporte</td>\n",
       "    </tr>\n",
       "    <tr>\n",
       "      <th>1</th>\n",
       "      <td>37</td>\n",
       "      <td>3</td>\n",
       "      <td>A</td>\n",
       "      <td>alta</td>\n",
       "      <td>automatico</td>\n",
       "      <td>luxo</td>\n",
       "    </tr>\n",
       "    <tr>\n",
       "      <th>2</th>\n",
       "      <td>22</td>\n",
       "      <td>2</td>\n",
       "      <td>B</td>\n",
       "      <td>media</td>\n",
       "      <td>automatico</td>\n",
       "      <td>esporte</td>\n",
       "    </tr>\n",
       "    <tr>\n",
       "      <th>3</th>\n",
       "      <td>26</td>\n",
       "      <td>2</td>\n",
       "      <td>B</td>\n",
       "      <td>alta</td>\n",
       "      <td>automatico</td>\n",
       "      <td>esporte</td>\n",
       "    </tr>\n",
       "    <tr>\n",
       "      <th>4</th>\n",
       "      <td>45</td>\n",
       "      <td>2</td>\n",
       "      <td>C</td>\n",
       "      <td>media</td>\n",
       "      <td>manual</td>\n",
       "      <td>standard</td>\n",
       "    </tr>\n",
       "    <tr>\n",
       "      <th>5</th>\n",
       "      <td>42</td>\n",
       "      <td>1</td>\n",
       "      <td>D</td>\n",
       "      <td>baixa</td>\n",
       "      <td>manual</td>\n",
       "      <td>standard</td>\n",
       "    </tr>\n",
       "  </tbody>\n",
       "</table>\n",
       "</div>"
      ],
      "text/plain": [
       "   idade  ncarros classe potencia      cambio    modelo\n",
       "0     20        1      A    baixa  automatico   esporte\n",
       "1     37        3      A     alta  automatico      luxo\n",
       "2     22        2      B    media  automatico   esporte\n",
       "3     26        2      B     alta  automatico   esporte\n",
       "4     45        2      C    media      manual  standard\n",
       "5     42        1      D    baixa      manual  standard"
      ]
     },
     "execution_count": 3,
     "metadata": {},
     "output_type": "execute_result"
    }
   ],
   "source": [
    "df_gasolina =  pd.read_excel(r'C:\\Users\\jonathan.perez\\Documents\\2. ESTUDOS\\3. DADOS\\livro - metodos multivariados de analise estatistica\\Outros Dados\\Capítulo 08\\Gasolina.xlsx')\n",
    "df_gasolina"
   ]
  },
  {
   "cell_type": "markdown",
   "metadata": {},
   "source": [
    "#### Nominais"
   ]
  },
  {
   "cell_type": "code",
   "execution_count": 26,
   "metadata": {},
   "outputs": [
    {
     "data": {
      "text/html": [
       "<div>\n",
       "<style scoped>\n",
       "    .dataframe tbody tr th:only-of-type {\n",
       "        vertical-align: middle;\n",
       "    }\n",
       "\n",
       "    .dataframe tbody tr th {\n",
       "        vertical-align: top;\n",
       "    }\n",
       "\n",
       "    .dataframe thead th {\n",
       "        text-align: right;\n",
       "    }\n",
       "</style>\n",
       "<table border=\"1\" class=\"dataframe\">\n",
       "  <thead>\n",
       "    <tr style=\"text-align: right;\">\n",
       "      <th></th>\n",
       "      <th>cambio_automatico</th>\n",
       "      <th>modelo_esporte</th>\n",
       "      <th>modelo_luxo</th>\n",
       "      <th>classe_A</th>\n",
       "      <th>classe_B</th>\n",
       "      <th>classe_C</th>\n",
       "      <th>potencia_alta</th>\n",
       "      <th>potencia_media</th>\n",
       "    </tr>\n",
       "  </thead>\n",
       "  <tbody>\n",
       "    <tr>\n",
       "      <th>0</th>\n",
       "      <td>1</td>\n",
       "      <td>1</td>\n",
       "      <td>0</td>\n",
       "      <td>1</td>\n",
       "      <td>0</td>\n",
       "      <td>0</td>\n",
       "      <td>0</td>\n",
       "      <td>0</td>\n",
       "    </tr>\n",
       "    <tr>\n",
       "      <th>1</th>\n",
       "      <td>1</td>\n",
       "      <td>0</td>\n",
       "      <td>1</td>\n",
       "      <td>1</td>\n",
       "      <td>0</td>\n",
       "      <td>0</td>\n",
       "      <td>1</td>\n",
       "      <td>0</td>\n",
       "    </tr>\n",
       "    <tr>\n",
       "      <th>2</th>\n",
       "      <td>1</td>\n",
       "      <td>1</td>\n",
       "      <td>0</td>\n",
       "      <td>0</td>\n",
       "      <td>1</td>\n",
       "      <td>0</td>\n",
       "      <td>0</td>\n",
       "      <td>1</td>\n",
       "    </tr>\n",
       "    <tr>\n",
       "      <th>3</th>\n",
       "      <td>1</td>\n",
       "      <td>1</td>\n",
       "      <td>0</td>\n",
       "      <td>0</td>\n",
       "      <td>1</td>\n",
       "      <td>0</td>\n",
       "      <td>1</td>\n",
       "      <td>0</td>\n",
       "    </tr>\n",
       "    <tr>\n",
       "      <th>4</th>\n",
       "      <td>0</td>\n",
       "      <td>0</td>\n",
       "      <td>0</td>\n",
       "      <td>0</td>\n",
       "      <td>0</td>\n",
       "      <td>1</td>\n",
       "      <td>0</td>\n",
       "      <td>1</td>\n",
       "    </tr>\n",
       "    <tr>\n",
       "      <th>5</th>\n",
       "      <td>0</td>\n",
       "      <td>0</td>\n",
       "      <td>0</td>\n",
       "      <td>0</td>\n",
       "      <td>0</td>\n",
       "      <td>0</td>\n",
       "      <td>0</td>\n",
       "      <td>0</td>\n",
       "    </tr>\n",
       "  </tbody>\n",
       "</table>\n",
       "</div>"
      ],
      "text/plain": [
       "   cambio_automatico  modelo_esporte  modelo_luxo  classe_A  classe_B  \\\n",
       "0                  1               1            0         1         0   \n",
       "1                  1               0            1         1         0   \n",
       "2                  1               1            0         0         1   \n",
       "3                  1               1            0         0         1   \n",
       "4                  0               0            0         0         0   \n",
       "5                  0               0            0         0         0   \n",
       "\n",
       "   classe_C  potencia_alta  potencia_media  \n",
       "0         0              0               0  \n",
       "1         0              1               0  \n",
       "2         0              0               1  \n",
       "3         0              1               0  \n",
       "4         1              0               1  \n",
       "5         0              0               0  "
      ]
     },
     "execution_count": 26,
     "metadata": {},
     "output_type": "execute_result"
    }
   ],
   "source": [
    "df_dummies = pd.get_dummies(df_gasolina, columns=['cambio', 'modelo', 'classe', 'potencia'], dtype = 'int')\\\n",
    "    .drop(columns=['cambio_manual', 'modelo_standard', 'classe_D', 'potencia_baixa', 'idade', 'ncarros']) #excluindo a coluna dummie que sera a referencia\n",
    "\n",
    "df_dummies"
   ]
  },
  {
   "cell_type": "code",
   "execution_count": 48,
   "metadata": {},
   "outputs": [
    {
     "data": {
      "text/plain": [
       "array([[0.   , 0.375, 0.375, 0.375, 0.625, 0.375],\n",
       "       [0.375, 0.   , 0.75 , 0.5  , 0.75 , 0.5  ],\n",
       "       [0.375, 0.75 , 0.   , 0.25 , 0.5  , 0.5  ],\n",
       "       [0.375, 0.5  , 0.25 , 0.   , 0.75 , 0.5  ],\n",
       "       [0.625, 0.75 , 0.5  , 0.75 , 0.   , 0.25 ],\n",
       "       [0.375, 0.5  , 0.5  , 0.5  , 0.25 , 0.   ]])"
      ]
     },
     "execution_count": 48,
     "metadata": {},
     "output_type": "execute_result"
    }
   ],
   "source": [
    "# MEDIDA DE DISCORDANCIA PARA DUMMIES\n",
    "ar_distancia_euclideana = squareform(pdist(df_dummies, metric='euclidean'))\n",
    "\n",
    "ar_medida_discordancia_dummies =  np.square(ar_distancia_euclideana)/df_dummies.shape[1] #dividivo pela quantidade de variaveis (comparaçoes)\n",
    "ar_medida_discordancia_dummies.round(3)"
   ]
  },
  {
   "cell_type": "code",
   "execution_count": 62,
   "metadata": {},
   "outputs": [
    {
     "data": {
      "text/plain": [
       "array([[1.   , 0.4  , 0.4  , 0.4  , 0.   , 0.   ],\n",
       "       [0.4  , 1.   , 0.143, 0.333, 0.   , 0.   ],\n",
       "       [0.4  , 0.143, 1.   , 0.6  , 0.2  , 0.   ],\n",
       "       [0.4  , 0.333, 0.6  , 1.   , 0.   , 0.   ],\n",
       "       [0.   , 0.   , 0.2  , 0.   , 1.   , 0.   ],\n",
       "       [0.   , 0.   , 0.   , 0.   , 0.   , 1.   ]])"
      ]
     },
     "execution_count": 62,
     "metadata": {},
     "output_type": "execute_result"
    }
   ],
   "source": [
    "#MEDIDA DE DISCIMILARIEDADE DE JACCARD PARA DUMMIES\n",
    "1 - squareform(pdist(df_dummies, metric='jaccard')).round(3)"
   ]
  },
  {
   "cell_type": "code",
   "execution_count": 61,
   "metadata": {},
   "outputs": [
    {
     "data": {
      "text/plain": [
       "array([[0.   , 0.429, 0.429, 0.429, 1.   , 1.   ],\n",
       "       [0.429, 0.   , 0.75 , 0.5  , 1.   , 1.   ],\n",
       "       [0.429, 0.75 , 0.   , 0.25 , 0.667, 1.   ],\n",
       "       [0.429, 0.5  , 0.25 , 0.   , 1.   , 1.   ],\n",
       "       [1.   , 1.   , 0.667, 1.   , 0.   , 1.   ],\n",
       "       [1.   , 1.   , 1.   , 1.   , 1.   , 0.   ]])"
      ]
     },
     "execution_count": 61,
     "metadata": {},
     "output_type": "execute_result"
    }
   ],
   "source": [
    "#MEDIDA DE DISCIMILARIEDADE DE BRAYCURTIS PARA DUMMIES\n",
    "squareform(pdist(df_dummies, metric='braycurtis')).round(3)"
   ]
  },
  {
   "cell_type": "markdown",
   "metadata": {},
   "source": [
    "#### Ordinais"
   ]
  },
  {
   "cell_type": "code",
   "execution_count": 74,
   "metadata": {},
   "outputs": [
    {
     "data": {
      "text/html": [
       "<div>\n",
       "<style scoped>\n",
       "    .dataframe tbody tr th:only-of-type {\n",
       "        vertical-align: middle;\n",
       "    }\n",
       "\n",
       "    .dataframe tbody tr th {\n",
       "        vertical-align: top;\n",
       "    }\n",
       "\n",
       "    .dataframe thead th {\n",
       "        text-align: right;\n",
       "    }\n",
       "</style>\n",
       "<table border=\"1\" class=\"dataframe\">\n",
       "  <thead>\n",
       "    <tr style=\"text-align: right;\">\n",
       "      <th></th>\n",
       "      <th>classe</th>\n",
       "      <th>potencia</th>\n",
       "    </tr>\n",
       "  </thead>\n",
       "  <tbody>\n",
       "    <tr>\n",
       "      <th>0</th>\n",
       "      <td>A</td>\n",
       "      <td>baixa</td>\n",
       "    </tr>\n",
       "    <tr>\n",
       "      <th>1</th>\n",
       "      <td>A</td>\n",
       "      <td>alta</td>\n",
       "    </tr>\n",
       "    <tr>\n",
       "      <th>2</th>\n",
       "      <td>B</td>\n",
       "      <td>media</td>\n",
       "    </tr>\n",
       "    <tr>\n",
       "      <th>3</th>\n",
       "      <td>B</td>\n",
       "      <td>alta</td>\n",
       "    </tr>\n",
       "    <tr>\n",
       "      <th>4</th>\n",
       "      <td>C</td>\n",
       "      <td>media</td>\n",
       "    </tr>\n",
       "    <tr>\n",
       "      <th>5</th>\n",
       "      <td>D</td>\n",
       "      <td>baixa</td>\n",
       "    </tr>\n",
       "  </tbody>\n",
       "</table>\n",
       "</div>"
      ],
      "text/plain": [
       "  classe potencia\n",
       "0      A    baixa\n",
       "1      A     alta\n",
       "2      B    media\n",
       "3      B     alta\n",
       "4      C    media\n",
       "5      D    baixa"
      ]
     },
     "execution_count": 74,
     "metadata": {},
     "output_type": "execute_result"
    }
   ],
   "source": [
    "df_gasolina[['classe', 'potencia']]"
   ]
  },
  {
   "cell_type": "code",
   "execution_count": 68,
   "metadata": {},
   "outputs": [
    {
     "data": {
      "text/html": [
       "<div>\n",
       "<style scoped>\n",
       "    .dataframe tbody tr th:only-of-type {\n",
       "        vertical-align: middle;\n",
       "    }\n",
       "\n",
       "    .dataframe tbody tr th {\n",
       "        vertical-align: top;\n",
       "    }\n",
       "\n",
       "    .dataframe thead th {\n",
       "        text-align: right;\n",
       "    }\n",
       "</style>\n",
       "<table border=\"1\" class=\"dataframe\">\n",
       "  <thead>\n",
       "    <tr style=\"text-align: right;\">\n",
       "      <th></th>\n",
       "      <th>tamanho</th>\n",
       "      <th>tamanho_ordinal</th>\n",
       "    </tr>\n",
       "  </thead>\n",
       "  <tbody>\n",
       "    <tr>\n",
       "      <th>0</th>\n",
       "      <td>pequeno</td>\n",
       "      <td>1</td>\n",
       "    </tr>\n",
       "    <tr>\n",
       "      <th>1</th>\n",
       "      <td>médio</td>\n",
       "      <td>2</td>\n",
       "    </tr>\n",
       "    <tr>\n",
       "      <th>2</th>\n",
       "      <td>grande</td>\n",
       "      <td>3</td>\n",
       "    </tr>\n",
       "    <tr>\n",
       "      <th>3</th>\n",
       "      <td>pequeno</td>\n",
       "      <td>1</td>\n",
       "    </tr>\n",
       "    <tr>\n",
       "      <th>4</th>\n",
       "      <td>grande</td>\n",
       "      <td>3</td>\n",
       "    </tr>\n",
       "  </tbody>\n",
       "</table>\n",
       "</div>"
      ],
      "text/plain": [
       "   tamanho  tamanho_ordinal\n",
       "0  pequeno                1\n",
       "1    médio                2\n",
       "2   grande                3\n",
       "3  pequeno                1\n",
       "4   grande                3"
      ]
     },
     "execution_count": 68,
     "metadata": {},
     "output_type": "execute_result"
    }
   ],
   "source": [
    "# METODO SIMPLES\n",
    "data = {'tamanho': ['pequeno', 'médio', 'grande', 'pequeno', 'grande']}\n",
    "df = pd.DataFrame(data)\n",
    "\n",
    "# Mapeamento ordinal\n",
    "tamanho_mapping = {'pequeno': 1, 'médio': 2, 'grande': 3}\n",
    "df['tamanho_ordinal'] = df['tamanho'].map(tamanho_mapping)\n",
    "\n",
    "df"
   ]
  },
  {
   "cell_type": "code",
   "execution_count": 88,
   "metadata": {},
   "outputs": [],
   "source": [
    "# DUMMIES COM ORDEM\n",
    "\n",
    "def dummie_coluna(coluna, prefix='dummie', order=[], nominal=True):\n",
    "    n = coluna.nunique()\n",
    "\n",
    "    if nominal: #nominal\n",
    "        codigo_dummies = np.identity(n-1, dtype=int) #matriz identidade\n",
    "        classes = coluna.unique() if not order else order\n",
    "        #classes = coluna.unique().reshape(-1, 1) if not order else order\n",
    "        \n",
    "    else: #ordinal\n",
    "        codigo_dummies = np.triu(np.ones((n-1, n-1), dtype=int)) #matriz triangular superior\n",
    "        classes = order\n",
    "\n",
    "    linha_zeros = np.zeros((1, n-1), dtype=int)\n",
    "    matriz_dummies = np.vstack((codigo_dummies, linha_zeros))\n",
    "\n",
    "    nome_colunas = [f'{prefix}_{str(i)}' for i in range(1, n)]\n",
    "    dummies = pd.DataFrame(data=matriz_dummies, columns=nome_colunas)\n",
    "    dummies.insert(0, 'classes', classes)  # Adiciona a coluna de classes\n",
    "    \n",
    "    base_dummies = pd.DataFrame(coluna).merge(dummies, how='left', left_on=coluna.name, right_on='classes')\n",
    "    base_dummies.drop(columns=['classes'], inplace=True)\n",
    "    \n",
    "    return base_dummies\n",
    "\n",
    "def dummies(base, nominal = {}, excluir_coluna_origem=False):\n",
    "    \"\"\"\n",
    "    Cria dummies apenas de colunas categoricas\n",
    "    \n",
    "    base: (DataFrame) recebe um data frame da base, com ou sem, colunas numeriacas. E seleciona apenas as colunas categoricas, se quiser dummies de colunas numericas faça use dummie_coluna()\n",
    "    nominal: (Dic) {'coluna': (nominal (True ou False), [lista da ordem])}\n",
    "    excluir_coluna_origem: (bool) True ex\n",
    "    \"\"\"\n",
    "\n",
    "\n",
    "    especial = base[nominal.keys()]\n",
    "    padrao = base.select_dtypes(include=['object', 'category']).drop(especial.columns, axis=1)\n",
    "\n",
    "    base_especial   = [dummie_coluna(especial[coluna], prefix=coluna, order=ordem[1], nominal=ordem[0]) for coluna, ordem in nominal.items()]\n",
    "    base_padrao     = [dummie_coluna(padrao[coluna], prefix=coluna) for coluna in padrao.columns]\n",
    "\n",
    "    if nominal == {}:\n",
    "        base_dummies = pd.concat(base_padrao, axis=1)\n",
    "    else:\n",
    "        base_dummies = pd.concat([pd.concat(base_especial, axis=1), pd.concat(base_padrao, axis=1)], axis=1)\n",
    "\n",
    "    if excluir_coluna_origem:\n",
    "        base_dummies.drop(list(padrao.columns) + list(especial.columns), axis=1, inplace=True)\n",
    "\n",
    "\n",
    "    return base_dummies"
   ]
  },
  {
   "cell_type": "code",
   "execution_count": null,
   "metadata": {},
   "outputs": [
    {
     "data": {
      "text/html": [
       "<div>\n",
       "<style scoped>\n",
       "    .dataframe tbody tr th:only-of-type {\n",
       "        vertical-align: middle;\n",
       "    }\n",
       "\n",
       "    .dataframe tbody tr th {\n",
       "        vertical-align: top;\n",
       "    }\n",
       "\n",
       "    .dataframe thead th {\n",
       "        text-align: right;\n",
       "    }\n",
       "</style>\n",
       "<table border=\"1\" class=\"dataframe\">\n",
       "  <thead>\n",
       "    <tr style=\"text-align: right;\">\n",
       "      <th></th>\n",
       "      <th>classe_1</th>\n",
       "      <th>classe_2</th>\n",
       "      <th>classe_3</th>\n",
       "      <th>potencia_1</th>\n",
       "      <th>potencia_2</th>\n",
       "      <th>cambio_1</th>\n",
       "      <th>modelo_1</th>\n",
       "      <th>modelo_2</th>\n",
       "    </tr>\n",
       "  </thead>\n",
       "  <tbody>\n",
       "    <tr>\n",
       "      <th>0</th>\n",
       "      <td>1</td>\n",
       "      <td>1</td>\n",
       "      <td>1</td>\n",
       "      <td>0</td>\n",
       "      <td>0</td>\n",
       "      <td>1</td>\n",
       "      <td>1</td>\n",
       "      <td>0</td>\n",
       "    </tr>\n",
       "    <tr>\n",
       "      <th>1</th>\n",
       "      <td>1</td>\n",
       "      <td>1</td>\n",
       "      <td>1</td>\n",
       "      <td>0</td>\n",
       "      <td>1</td>\n",
       "      <td>1</td>\n",
       "      <td>0</td>\n",
       "      <td>1</td>\n",
       "    </tr>\n",
       "    <tr>\n",
       "      <th>2</th>\n",
       "      <td>0</td>\n",
       "      <td>1</td>\n",
       "      <td>1</td>\n",
       "      <td>1</td>\n",
       "      <td>1</td>\n",
       "      <td>1</td>\n",
       "      <td>1</td>\n",
       "      <td>0</td>\n",
       "    </tr>\n",
       "    <tr>\n",
       "      <th>3</th>\n",
       "      <td>0</td>\n",
       "      <td>1</td>\n",
       "      <td>1</td>\n",
       "      <td>0</td>\n",
       "      <td>1</td>\n",
       "      <td>1</td>\n",
       "      <td>1</td>\n",
       "      <td>0</td>\n",
       "    </tr>\n",
       "    <tr>\n",
       "      <th>4</th>\n",
       "      <td>0</td>\n",
       "      <td>0</td>\n",
       "      <td>1</td>\n",
       "      <td>1</td>\n",
       "      <td>1</td>\n",
       "      <td>0</td>\n",
       "      <td>0</td>\n",
       "      <td>0</td>\n",
       "    </tr>\n",
       "    <tr>\n",
       "      <th>5</th>\n",
       "      <td>0</td>\n",
       "      <td>0</td>\n",
       "      <td>0</td>\n",
       "      <td>0</td>\n",
       "      <td>0</td>\n",
       "      <td>0</td>\n",
       "      <td>0</td>\n",
       "      <td>0</td>\n",
       "    </tr>\n",
       "  </tbody>\n",
       "</table>\n",
       "</div>"
      ],
      "text/plain": [
       "   classe_1  classe_2  classe_3  potencia_1  potencia_2  cambio_1  modelo_1  \\\n",
       "0         1         1         1           0           0         1         1   \n",
       "1         1         1         1           0           1         1         0   \n",
       "2         0         1         1           1           1         1         1   \n",
       "3         0         1         1           0           1         1         1   \n",
       "4         0         0         1           1           1         0         0   \n",
       "5         0         0         0           0           0         0         0   \n",
       "\n",
       "   modelo_2  \n",
       "0         0  \n",
       "1         1  \n",
       "2         0  \n",
       "3         0  \n",
       "4         0  \n",
       "5         0  "
      ]
     },
     "execution_count": 94,
     "metadata": {},
     "output_type": "execute_result"
    }
   ],
   "source": [
    "lista = {   \n",
    "            'classe': (False, ['A', 'B', 'C', 'D']),\n",
    "            'potencia': (False, ['media', 'alta', 'baixa'])\n",
    "        }\n",
    "\n",
    "dummies(df_gasolina, lista, excluir_coluna_origem=True)"
   ]
  },
  {
   "cell_type": "markdown",
   "metadata": {},
   "source": [
    "# Agrupamentos\n",
    "\n",
    "Algoritmos para agrupar individuos a partir de uma matriz de distancias"
   ]
  },
  {
   "cell_type": "markdown",
   "metadata": {},
   "source": [
    "## Hierarquico"
   ]
  },
  {
   "cell_type": "markdown",
   "metadata": {},
   "source": [
    "    complete = distancia maxima: tende a formar grupos mais homogeneos\n",
    "    single = distancia minima: server para encontrar pontos aberrantes (outliers) já que esse pontos serao agrupados por ultimo\n",
    "    ward: fornece grupos com alta homogenidade interna"
   ]
  },
  {
   "cell_type": "code",
   "execution_count": 127,
   "metadata": {},
   "outputs": [
    {
     "data": {
      "text/html": [
       "<div>\n",
       "<style scoped>\n",
       "    .dataframe tbody tr th:only-of-type {\n",
       "        vertical-align: middle;\n",
       "    }\n",
       "\n",
       "    .dataframe tbody tr th {\n",
       "        vertical-align: top;\n",
       "    }\n",
       "\n",
       "    .dataframe thead th {\n",
       "        text-align: right;\n",
       "    }\n",
       "</style>\n",
       "<table border=\"1\" class=\"dataframe\">\n",
       "  <thead>\n",
       "    <tr style=\"text-align: right;\">\n",
       "      <th></th>\n",
       "      <th>HD</th>\n",
       "      <th>F</th>\n",
       "    </tr>\n",
       "    <tr>\n",
       "      <th>Região</th>\n",
       "      <th></th>\n",
       "      <th></th>\n",
       "    </tr>\n",
       "  </thead>\n",
       "  <tbody>\n",
       "    <tr>\n",
       "      <th>SJRP</th>\n",
       "      <td>-0.663820</td>\n",
       "      <td>0.847501</td>\n",
       "    </tr>\n",
       "    <tr>\n",
       "      <th>RP</th>\n",
       "      <td>-0.073117</td>\n",
       "      <td>0.812763</td>\n",
       "    </tr>\n",
       "    <tr>\n",
       "      <th>Bauru</th>\n",
       "      <td>-1.065425</td>\n",
       "      <td>0.465531</td>\n",
       "    </tr>\n",
       "    <tr>\n",
       "      <th>Campinas</th>\n",
       "      <td>1.531503</td>\n",
       "      <td>-0.793698</td>\n",
       "    </tr>\n",
       "    <tr>\n",
       "      <th>Sorocaba</th>\n",
       "      <td>0.270859</td>\n",
       "      <td>-1.332097</td>\n",
       "    </tr>\n",
       "  </tbody>\n",
       "</table>\n",
       "</div>"
      ],
      "text/plain": [
       "                HD         F\n",
       "Região                      \n",
       "SJRP     -0.663820  0.847501\n",
       "RP       -0.073117  0.812763\n",
       "Bauru    -1.065425  0.465531\n",
       "Campinas  1.531503 -0.793698\n",
       "Sorocaba  0.270859 -1.332097"
      ]
     },
     "execution_count": 127,
     "metadata": {},
     "output_type": "execute_result"
    }
   ],
   "source": [
    "df_base_zscore = df_base_zscore.apply(lambda x: (x - x.mean())/x.std())\n",
    "df_base_zscore"
   ]
  },
  {
   "cell_type": "code",
   "execution_count": 144,
   "metadata": {},
   "outputs": [
    {
     "data": {
      "text/plain": [
       "array([[0.        , 2.        , 0.55424509, 2.        ],\n",
       "       [1.        , 5.        , 0.93158865, 3.        ],\n",
       "       [3.        , 4.        , 1.37080268, 2.        ],\n",
       "       [6.        , 7.        , 3.59803488, 5.        ]])"
      ]
     },
     "execution_count": 144,
     "metadata": {},
     "output_type": "execute_result"
    }
   ],
   "source": [
    "ar_distancia_euclideana = pdist(df_base_zscore, metric='euclidean')\n",
    "ar_agrupamento = shc.linkage(ar_distancia_euclideana, method='ward')\n",
    "#ward(ar_distancia_euclideana)\n",
    "ar_agrupamento"
   ]
  },
  {
   "cell_type": "code",
   "execution_count": 140,
   "metadata": {},
   "outputs": [
    {
     "data": {
      "image/png": "[encoded data removed]",
      "text/plain": [
       "<Figure size 640x480 with 1 Axes>"
      ]
     },
     "metadata": {},
     "output_type": "display_data"
    }
   ],
   "source": [
    "shc.dendrogram(ar_agrupamento)\n",
    "plt.show()"
   ]
  },
  {
   "cell_type": "code",
   "execution_count": 163,
   "metadata": {},
   "outputs": [
    {
     "data": {
      "text/html": [
       "<div>\n",
       "<style scoped>\n",
       "    .dataframe tbody tr th:only-of-type {\n",
       "        vertical-align: middle;\n",
       "    }\n",
       "\n",
       "    .dataframe tbody tr th {\n",
       "        vertical-align: top;\n",
       "    }\n",
       "\n",
       "    .dataframe thead th {\n",
       "        text-align: right;\n",
       "    }\n",
       "</style>\n",
       "<table border=\"1\" class=\"dataframe\">\n",
       "  <thead>\n",
       "    <tr style=\"text-align: right;\">\n",
       "      <th></th>\n",
       "      <th>HD</th>\n",
       "      <th>F</th>\n",
       "      <th>cluster</th>\n",
       "    </tr>\n",
       "    <tr>\n",
       "      <th>Região</th>\n",
       "      <th></th>\n",
       "      <th></th>\n",
       "      <th></th>\n",
       "    </tr>\n",
       "  </thead>\n",
       "  <tbody>\n",
       "    <tr>\n",
       "      <th>SJRP</th>\n",
       "      <td>-0.663820</td>\n",
       "      <td>0.847501</td>\n",
       "      <td>1</td>\n",
       "    </tr>\n",
       "    <tr>\n",
       "      <th>RP</th>\n",
       "      <td>-0.073117</td>\n",
       "      <td>0.812763</td>\n",
       "      <td>1</td>\n",
       "    </tr>\n",
       "    <tr>\n",
       "      <th>Bauru</th>\n",
       "      <td>-1.065425</td>\n",
       "      <td>0.465531</td>\n",
       "      <td>1</td>\n",
       "    </tr>\n",
       "    <tr>\n",
       "      <th>Campinas</th>\n",
       "      <td>1.531503</td>\n",
       "      <td>-0.793698</td>\n",
       "      <td>0</td>\n",
       "    </tr>\n",
       "    <tr>\n",
       "      <th>Sorocaba</th>\n",
       "      <td>0.270859</td>\n",
       "      <td>-1.332097</td>\n",
       "      <td>0</td>\n",
       "    </tr>\n",
       "  </tbody>\n",
       "</table>\n",
       "</div>"
      ],
      "text/plain": [
       "                HD         F  cluster\n",
       "Região                               \n",
       "SJRP     -0.663820  0.847501        1\n",
       "RP       -0.073117  0.812763        1\n",
       "Bauru    -1.065425  0.465531        1\n",
       "Campinas  1.531503 -0.793698        0\n",
       "Sorocaba  0.270859 -1.332097        0"
      ]
     },
     "execution_count": 163,
     "metadata": {},
     "output_type": "execute_result"
    }
   ],
   "source": [
    "clustering = AgglomerativeClustering(n_clusters=2, linkage='ward', metric='euclidean')\n",
    "df_base_zscore['cluster'] = clustering.fit_predict(df_base_zscore)\n",
    "df_base_zscore"
   ]
  },
  {
   "cell_type": "code",
   "execution_count": 164,
   "metadata": {},
   "outputs": [
    {
     "data": {
      "text/plain": [
       "<Axes: xlabel='HD', ylabel='F'>"
      ]
     },
     "execution_count": 164,
     "metadata": {},
     "output_type": "execute_result"
    },
    {
     "data": {
      "image/png": "[encoded data removed]",
      "text/plain": [
       "<Figure size 640x480 with 1 Axes>"
      ]
     },
     "metadata": {},
     "output_type": "display_data"
    }
   ],
   "source": [
    "sns.scatterplot(df_base_zscore, x='HD', y='F', hue='cluster')"
   ]
  },
  {
   "cell_type": "markdown",
   "metadata": {},
   "source": [
    "# K - Means"
   ]
  },
  {
   "cell_type": "code",
   "execution_count": 171,
   "metadata": {},
   "outputs": [
    {
     "data": {
      "text/plain": [
       "[<matplotlib.lines.Line2D at 0x2154e5a9f90>]"
      ]
     },
     "execution_count": 171,
     "metadata": {},
     "output_type": "execute_result"
    },
    {
     "data": {
      "image/png": "[encoded data removed]",
      "text/plain": [
       "<Figure size 640x480 with 1 Axes>"
      ]
     },
     "metadata": {},
     "output_type": "display_data"
    }
   ],
   "source": [
    "from sklearn.cluster import KMeans\n",
    "inertia = []\n",
    "K = range(1, 6)  # Testar k de 1 a 10\n",
    "for k in K:\n",
    "    kmeanModel = KMeans(n_clusters=k, random_state=42)\n",
    "    kmeanModel.fit(df_base_zscore)\n",
    "    inertia.append(kmeanModel.inertia_)\n",
    "\n",
    "plt.plot(K, inertia)"
   ]
  },
  {
   "cell_type": "code",
   "execution_count": 172,
   "metadata": {},
   "outputs": [
    {
     "data": {
      "text/html": [
       "<div>\n",
       "<style scoped>\n",
       "    .dataframe tbody tr th:only-of-type {\n",
       "        vertical-align: middle;\n",
       "    }\n",
       "\n",
       "    .dataframe tbody tr th {\n",
       "        vertical-align: top;\n",
       "    }\n",
       "\n",
       "    .dataframe thead th {\n",
       "        text-align: right;\n",
       "    }\n",
       "</style>\n",
       "<table border=\"1\" class=\"dataframe\">\n",
       "  <thead>\n",
       "    <tr style=\"text-align: right;\">\n",
       "      <th></th>\n",
       "      <th>HD</th>\n",
       "      <th>F</th>\n",
       "      <th>cluster</th>\n",
       "    </tr>\n",
       "    <tr>\n",
       "      <th>Região</th>\n",
       "      <th></th>\n",
       "      <th></th>\n",
       "      <th></th>\n",
       "    </tr>\n",
       "  </thead>\n",
       "  <tbody>\n",
       "    <tr>\n",
       "      <th>SJRP</th>\n",
       "      <td>-0.663820</td>\n",
       "      <td>0.847501</td>\n",
       "      <td>0</td>\n",
       "    </tr>\n",
       "    <tr>\n",
       "      <th>RP</th>\n",
       "      <td>-0.073117</td>\n",
       "      <td>0.812763</td>\n",
       "      <td>0</td>\n",
       "    </tr>\n",
       "    <tr>\n",
       "      <th>Bauru</th>\n",
       "      <td>-1.065425</td>\n",
       "      <td>0.465531</td>\n",
       "      <td>0</td>\n",
       "    </tr>\n",
       "    <tr>\n",
       "      <th>Campinas</th>\n",
       "      <td>1.531503</td>\n",
       "      <td>-0.793698</td>\n",
       "      <td>1</td>\n",
       "    </tr>\n",
       "    <tr>\n",
       "      <th>Sorocaba</th>\n",
       "      <td>0.270859</td>\n",
       "      <td>-1.332097</td>\n",
       "      <td>1</td>\n",
       "    </tr>\n",
       "  </tbody>\n",
       "</table>\n",
       "</div>"
      ],
      "text/plain": [
       "                HD         F  cluster\n",
       "Região                               \n",
       "SJRP     -0.663820  0.847501        0\n",
       "RP       -0.073117  0.812763        0\n",
       "Bauru    -1.065425  0.465531        0\n",
       "Campinas  1.531503 -0.793698        1\n",
       "Sorocaba  0.270859 -1.332097        1"
      ]
     },
     "execution_count": 172,
     "metadata": {},
     "output_type": "execute_result"
    }
   ],
   "source": [
    "kmeans = KMeans(n_clusters=2, random_state=42, n_init=10) # n_init=10 executa o algoritmo 10 vezes com diferentes centroides iniciais e escolhe o melhor resultado.\n",
    "df_base_zscore['cluster'] = kmeans.fit_predict(df_base_zscore)\n",
    "df_base_zscore"
   ]
  },
  {
   "cell_type": "code",
   "execution_count": null,
   "metadata": {},
   "outputs": [],
   "source": []
  },
  {
   "cell_type": "code",
   "execution_count": null,
   "metadata": {},
   "outputs": [],
   "source": []
  }
 ],
 "metadata": {
  "kernelspec": {
   "display_name": "Python 3",
   "language": "python",
   "name": "python3"
  },
  "language_info": {
   "codemirror_mode": {
    "name": "ipython",
    "version": 3
   },
   "file_extension": ".py",
   "mimetype": "text/x-python",
   "name": "python",
   "nbconvert_exporter": "python",
   "pygments_lexer": "ipython3",
   "version": "3.13.1"
  }
 },
 "nbformat": 4,
 "nbformat_minor": 2
}
